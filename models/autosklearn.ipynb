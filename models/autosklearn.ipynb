{
 "cells": [
  {
   "cell_type": "code",
   "execution_count": 34,
   "metadata": {},
   "outputs": [],
   "source": [
    "import pandas as pd\n",
    "import autokeras as ak\n",
    "import os\n",
    "from sklearn.model_selection import train_test_split\n",
    "from sklearn.metrics import accuracy_score, precision_score, recall_score, f1_score, roc_auc_score\n",
    "import numpy as np\n",
    "\n",
    "datasets_folder = \"../datasets\"\n",
    "file_name = \"tupi_binary.csv\"\n",
    "\n",
    "\n",
    "def read_csv_file(file_name):\n",
    "    file_path = os.path.join(datasets_folder, file_name)\n",
    "    if os.path.isfile(file_path):\n",
    "        return pd.read_csv(file_path)\n",
    "    else:\n",
    "        raise FileNotFoundError(f\"File not found: {file_path}\")\n",
    "\n",
    "\n",
    "def train_test_split_data(df, test_size=0.2, random_state=42):\n",
    "    df_train, df_test = train_test_split(df, test_size=test_size, random_state=random_state)\n",
    "    return df_train, df_test\n",
    "\n",
    "\n",
    "def calculate_average_f1(y_true, y_pred):\n",
    "    return f1_score(y_true, y_pred, average='weighted')\n",
    "\n",
    "\n",
    "def main():\n",
    "    # Set random seed for reproducibility\n",
    "    np.random.seed(42)\n",
    "\n",
    "    # Load data\n",
    "    df = read_csv_file(file_name)\n",
    "\n",
    "    # Split the DataFrame into training and testing sets\n",
    "    df_train, df_test = train_test_split_data(df)\n",
    "\n",
    "    x_train = np.array(df_train[\"text\"])\n",
    "    y_train = np.array(df_train[\"hate\"])\n",
    "    x_test = np.array(df_test[\"text\"])\n",
    "    y_test = np.array(df_test[\"hate\"])\n",
    "\n",
    "    # Initialize the text classifier.\n",
    "    clf = ak.TextClassifier(overwrite=True, max_trials=2)  # Experiment with more trials\n",
    "\n",
    "    # Feed the text classifier with training data.\n",
    "    clf.fit(x_train, y_train, epochs=1)  # Experiment with more epochs\n",
    "\n",
    "    # Predict with the best model.\n",
    "    logits = clf.predict(x_test)\n",
    "\n",
    "    # Apply sigmoid to get probabilities\n",
    "    predicted_probabilities = 1 / (1 + np.exp(-logits))\n",
    "\n",
    "    # Calculate additional metrics\n",
    "    accuracy = accuracy_score(y_test, np.round(predicted_probabilities))\n",
    "    precision = precision_score(y_test, np.round(predicted_probabilities))\n",
    "    recall = recall_score(y_test, np.round(predicted_probabilities))\n",
    "\n",
    "    # Calculate AUC\n",
    "    auc = roc_auc_score(y_test, predicted_probabilities)\n",
    "\n",
    "    # Calculate average F1 score\n",
    "    average_f1 = calculate_average_f1(y_test, np.round(predicted_probabilities))\n",
    "\n",
    "    print(\"Evaluation Metrics:\")\n",
    "    print(f\"Accuracy: {accuracy}\")\n",
    "    print(f\"Precision: {precision}\")\n",
    "    print(f\"Recall: {recall}\")\n",
    "    print(f\"F1 Score: {average_f1}\")\n",
    "    print(f\"AUC: {auc}\")"
   ]
  },
  {
   "cell_type": "code",
   "execution_count": 35,
   "metadata": {},
   "outputs": [
    {
     "name": "stdout",
     "output_type": "stream",
     "text": [
      "Trial 2 Complete [00h 00m 23s]\n",
      "val_loss: 0.3298386037349701\n",
      "\n",
      "Best val_loss So Far: 0.27215877175331116\n",
      "Total elapsed time: 00h 02m 02s\n",
      "1092/1092 [==============================] - 120s 109ms/step - loss: 0.3183 - accuracy: 0.8857\n",
      "INFO:tensorflow:Assets written to: ./text_classifier/best_model/assets\n"
     ]
    },
    {
     "name": "stderr",
     "output_type": "stream",
     "text": [
      "INFO:tensorflow:Assets written to: ./text_classifier/best_model/assets\n"
     ]
    },
    {
     "name": "stdout",
     "output_type": "stream",
     "text": [
      "273/273 [==============================] - 7s 24ms/step\n",
      "273/273 [==============================] - 7s 25ms/step\n",
      "Evaluation Metrics:\n",
      "Accuracy: 0.8819555759102359\n",
      "Precision: 0.5355850422195416\n",
      "Recall: 0.4073394495412844\n",
      "F1 Score: 0.8749187888849355\n",
      "AUC: 0.6784865745874921\n"
     ]
    }
   ],
   "source": [
    "main()"
   ]
  },
  {
   "cell_type": "code",
   "execution_count": 37,
   "metadata": {},
   "outputs": [
    {
     "name": "stdout",
     "output_type": "stream",
     "text": [
      "Model Summary:\n",
      "Model: \"model\"\n",
      "_________________________________________________________________\n",
      " Layer (type)                Output Shape              Param #   \n",
      "=================================================================\n",
      " input_1 (InputLayer)        [(None,)]                 0         \n",
      "                                                                 \n",
      " expand_last_dim (ExpandLas  (None, 1)                 0         \n",
      " tDim)                                                           \n",
      "                                                                 \n",
      " text_vectorization (TextVe  (None, 512)               0         \n",
      " ctorization)                                                    \n",
      "                                                                 \n",
      " embedding (Embedding)       (None, 512, 64)           320064    \n",
      "                                                                 \n",
      " dropout (Dropout)           (None, 512, 64)           0         \n",
      "                                                                 \n",
      " conv1d (Conv1D)             (None, 508, 256)          82176     \n",
      "                                                                 \n",
      " global_max_pooling1d (Glob  (None, 256)               0         \n",
      " alMaxPooling1D)                                                 \n",
      "                                                                 \n",
      " dense (Dense)               (None, 256)               65792     \n",
      "                                                                 \n",
      " re_lu (ReLU)                (None, 256)               0         \n",
      "                                                                 \n",
      " dropout_1 (Dropout)         (None, 256)               0         \n",
      "                                                                 \n",
      " dense_1 (Dense)             (None, 1)                 257       \n",
      "                                                                 \n",
      " classification_head_1 (Act  (None, 1)                 0         \n",
      " ivation)                                                        \n",
      "                                                                 \n",
      "=================================================================\n",
      "Total params: 468289 (1.79 MB)\n",
      "Trainable params: 468289 (1.79 MB)\n",
      "Non-trainable params: 0 (0.00 Byte)\n",
      "_________________________________________________________________\n"
     ]
    }
   ],
   "source": [
    "# Print model summary\n",
    "print(\"Model Summary:\")\n",
    "clf.export_model().summary()"
   ]
  },
  {
   "cell_type": "code",
   "execution_count": 38,
   "metadata": {},
   "outputs": [
    {
     "name": "stdout",
     "output_type": "stream",
     "text": [
      "Best Model Summary:\n",
      "Model: \"model\"\n",
      "_________________________________________________________________\n",
      " Layer (type)                Output Shape              Param #   \n",
      "=================================================================\n",
      " input_1 (InputLayer)        [(None,)]                 0         \n",
      "                                                                 \n",
      " expand_last_dim (ExpandLas  (None, 1)                 0         \n",
      " tDim)                                                           \n",
      "                                                                 \n",
      " text_vectorization (TextVe  (None, 512)               0         \n",
      " ctorization)                                                    \n",
      "                                                                 \n",
      " embedding (Embedding)       (None, 512, 64)           320064    \n",
      "                                                                 \n",
      " dropout (Dropout)           (None, 512, 64)           0         \n",
      "                                                                 \n",
      " conv1d (Conv1D)             (None, 508, 256)          82176     \n",
      "                                                                 \n",
      " global_max_pooling1d (Glob  (None, 256)               0         \n",
      " alMaxPooling1D)                                                 \n",
      "                                                                 \n",
      " dense (Dense)               (None, 256)               65792     \n",
      "                                                                 \n",
      " re_lu (ReLU)                (None, 256)               0         \n",
      "                                                                 \n",
      " dropout_1 (Dropout)         (None, 256)               0         \n",
      "                                                                 \n",
      " dense_1 (Dense)             (None, 1)                 257       \n",
      "                                                                 \n",
      " classification_head_1 (Act  (None, 1)                 0         \n",
      " ivation)                                                        \n",
      "                                                                 \n",
      "=================================================================\n",
      "Total params: 468289 (1.79 MB)\n",
      "Trainable params: 468289 (1.79 MB)\n",
      "Non-trainable params: 0 (0.00 Byte)\n",
      "_________________________________________________________________\n"
     ]
    }
   ],
   "source": [
    "# Retrieve the best model\n",
    "best_model = clf.export_model()\n",
    "\n",
    "# Print the summary of the best model\n",
    "print(\"Best Model Summary:\")\n",
    "best_model.summary()"
   ]
  }
 ],
 "metadata": {
  "kernelspec": {
   "display_name": "tupi-env",
   "language": "python",
   "name": "python3"
  },
  "language_info": {
   "codemirror_mode": {
    "name": "ipython",
    "version": 3
   },
   "file_extension": ".py",
   "mimetype": "text/x-python",
   "name": "python",
   "nbconvert_exporter": "python",
   "pygments_lexer": "ipython3",
   "version": "3.10.13"
  }
 },
 "nbformat": 4,
 "nbformat_minor": 2
}
