{
 "cells": [
  {
   "cell_type": "code",
   "execution_count": 18,
   "metadata": {},
   "outputs": [
    {
     "ename": "EOFError",
     "evalue": "Ran out of input",
     "output_type": "error",
     "traceback": [
      "\u001b[0;31m---------------------------------------------------------------------------\u001b[0m",
      "\u001b[0;31mEOFError\u001b[0m                                  Traceback (most recent call last)",
      "\u001b[1;32m/home/victoriareis/doutorado/TuPi-Portuguese-Hate-Speech-Dataset/models/teste_pkl.ipynb Célula 1\u001b[0m line \u001b[0;36m3\n\u001b[1;32m     <a href='vscode-notebook-cell:/home/victoriareis/doutorado/TuPi-Portuguese-Hate-Speech-Dataset/models/teste_pkl.ipynb#W3sZmlsZQ%3D%3D?line=35'>36</a>\u001b[0m \u001b[39m# Load the pickled model\u001b[39;00m\n\u001b[1;32m     <a href='vscode-notebook-cell:/home/victoriareis/doutorado/TuPi-Portuguese-Hate-Speech-Dataset/models/teste_pkl.ipynb#W3sZmlsZQ%3D%3D?line=36'>37</a>\u001b[0m \u001b[39mwith\u001b[39;00m \u001b[39mopen\u001b[39m(model_file_path, \u001b[39m'\u001b[39m\u001b[39mrb\u001b[39m\u001b[39m'\u001b[39m) \u001b[39mas\u001b[39;00m f:\n\u001b[0;32m---> <a href='vscode-notebook-cell:/home/victoriareis/doutorado/TuPi-Portuguese-Hate-Speech-Dataset/models/teste_pkl.ipynb#W3sZmlsZQ%3D%3D?line=37'>38</a>\u001b[0m     loaded_model \u001b[39m=\u001b[39m pickle\u001b[39m.\u001b[39;49mload(f)\n\u001b[1;32m     <a href='vscode-notebook-cell:/home/victoriareis/doutorado/TuPi-Portuguese-Hate-Speech-Dataset/models/teste_pkl.ipynb#W3sZmlsZQ%3D%3D?line=39'>40</a>\u001b[0m \u001b[39m# Predict with the loaded model.\u001b[39;00m\n\u001b[1;32m     <a href='vscode-notebook-cell:/home/victoriareis/doutorado/TuPi-Portuguese-Hate-Speech-Dataset/models/teste_pkl.ipynb#W3sZmlsZQ%3D%3D?line=40'>41</a>\u001b[0m threshold \u001b[39m=\u001b[39m \u001b[39m0.5\u001b[39m\n",
      "\u001b[0;31mEOFError\u001b[0m: Ran out of input"
     ]
    }
   ],
   "source": [
    "import pandas as pd\n",
    "import pickle\n",
    "import autokeras as ak\n",
    "import numpy as np\n",
    "from sklearn.metrics import accuracy_score, precision_score, recall_score, f1_score\n",
    "\n",
    "# Read your test data or use your own data\n",
    "datasets_folder = \"../datasets\"\n",
    "file_name = \"tupi_binary.csv\"\n",
    "\n",
    "def read_csv_file(file_name):\n",
    "    file_path = os.path.join(datasets_folder, file_name)\n",
    "    if os.path.isfile(file_path):\n",
    "        return pd.read_csv(file_path)\n",
    "    else:\n",
    "        raise FileNotFoundError(f\"File not found: {file_path}\")\n",
    "\n",
    "def train_test_split_data(df, test_size=0.2, random_state=42):\n",
    "    df_train, df_test = train_test_split(df, test_size=test_size, random_state=random_state)\n",
    "    return df_train, df_test\n",
    "\n",
    "# Load data\n",
    "df = read_csv_file(file_name)\n",
    "\n",
    "# Split the DataFrame into training and testing sets\n",
    "df_train, df_test = train_test_split_data(df)\n",
    "\n",
    "x_train = np.array(df_train[\"text\"])\n",
    "y_train = np.array(df_train[\"hate\"])\n",
    "x_test = np.array(df_test[\"text\"])\n",
    "y_test = np.array(df_test[\"hate\"])\n",
    "\n",
    "# Assume 'autokeras_model.pkl' is the name of your pickled AutoKeras model file\n",
    "model_file_path = 'autokeras_model.pkl'\n",
    "\n",
    "# Load the pickled model\n",
    "with open(model_file_path, 'rb') as f:\n",
    "    loaded_model = pickle.load(f)\n",
    "\n",
    "# Predict with the loaded model.\n",
    "threshold = 0.5\n",
    "predicted_y = loaded_model.predict(x_test)\n",
    "predicted_y = (predicted_y > threshold).astype(int)\n",
    "\n",
    "# Evaluate the loaded model with scikit-learn metrics\n",
    "accuracy = accuracy_score(y_test, predicted_y)\n",
    "precision = precision_score(y_test, predicted_y)\n",
    "recall = recall_score(y_test, predicted_y)\n",
    "f1 = f1_score(y_test, predicted_y)\n",
    "\n",
    "print(f\"Evaluation Metrics: Accuracy: {accuracy}, Precision: {precision}, Recall: {recall}, F1 Score: {f1}\")\n",
    "\n",
    "\n"
   ]
  },
  {
   "cell_type": "code",
   "execution_count": null,
   "metadata": {},
   "outputs": [],
   "source": [
    "def loaded_model_predict (model_file_path):\n",
    "    with open(model_file_path, 'rb') as f:\n",
    "        loaded_model = pickle.load(f)\n",
    "    predicted_y = loaded_model.predict(x_test)\n",
    "    return (predicted_y > 0.5).astype(int)\n"
   ]
  }
 ],
 "metadata": {
  "kernelspec": {
   "display_name": "tupi-env",
   "language": "python",
   "name": "python3"
  },
  "language_info": {
   "codemirror_mode": {
    "name": "ipython",
    "version": 3
   },
   "file_extension": ".py",
   "mimetype": "text/x-python",
   "name": "python",
   "nbconvert_exporter": "python",
   "pygments_lexer": "ipython3",
   "version": "3.10.13"
  }
 },
 "nbformat": 4,
 "nbformat_minor": 2
}
