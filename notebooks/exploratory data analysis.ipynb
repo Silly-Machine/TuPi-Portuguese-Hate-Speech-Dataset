{
 "cells": [
  {
   "cell_type": "code",
   "execution_count": 37,
   "metadata": {},
   "outputs": [],
   "source": [
    "import os\n",
    "import pandas as pd\n",
    "import matplotlib.pyplot as plt\n",
    "import nltk\n",
    "from nltk.util import bigrams\n",
    "from nltk.corpus import stopwords\n",
    "from collections import Counter\n",
    "import matplotlib.pyplot as plt\n",
    "import string\n",
    "from sklearn.preprocessing import MinMaxScaler\n"
   ]
  },
  {
   "cell_type": "code",
   "execution_count": 2,
   "metadata": {},
   "outputs": [],
   "source": [
    "# Define the path to the \"datasets\" folder relative to your current notebook's location.\n",
    "datasets_folder = \"../datasets\""
   ]
  },
  {
   "cell_type": "markdown",
   "metadata": {},
   "source": [
    "### 1) % of each dataset in the unified dataset"
   ]
  },
  {
   "cell_type": "code",
   "execution_count": 3,
   "metadata": {},
   "outputs": [],
   "source": [
    "# Specify the name of the CSV file you want to access\n",
    "csv_file_name = \"tupi_binary.csv\""
   ]
  },
  {
   "cell_type": "code",
   "execution_count": 4,
   "metadata": {},
   "outputs": [],
   "source": [
    "# Construct the full path to the \"tupi.csv\" file\n",
    "csv_file_path = os.path.join(datasets_folder, csv_file_name)"
   ]
  },
  {
   "cell_type": "code",
   "execution_count": 5,
   "metadata": {},
   "outputs": [],
   "source": [
    "# Check if the file exists before attempting to read it\n",
    "if os.path.isfile(csv_file_path):\n",
    "    # Load the \"tupi.csv\" file into a DataFrame\n",
    "    df_tupi = pd.read_csv(csv_file_path)"
   ]
  },
  {
   "cell_type": "code",
   "execution_count": 6,
   "metadata": {},
   "outputs": [],
   "source": [
    "# Calculate the total number of \"aggressive\" and \"hate\" for all researchers\n",
    "total_aggressive = df_tupi['aggressive'].sum()\n",
    "total_hate = df_tupi['hate'].sum()"
   ]
  },
  {
   "cell_type": "code",
   "execution_count": 7,
   "metadata": {},
   "outputs": [],
   "source": [
    "# Calculate the share percentage of each researcher in terms of \"aggressive\" and \"hate\"\n",
    "grouped_data_tupi = df_tupi.groupby('researcher').agg({\n",
    "    'aggressive': lambda x: round((x.sum() / total_aggressive) * 100, 0),\n",
    "    'hate': lambda x: round((x.sum() / total_hate) * 100, 0)\n",
    "}).reset_index()\n"
   ]
  },
  {
   "cell_type": "code",
   "execution_count": 8,
   "metadata": {},
   "outputs": [],
   "source": [
    "# Rename columns for clarity\n",
    "grouped_data_tupi = grouped_data_tupi.rename(columns={'aggressive': 'aggressive_share_percentage', 'hate': 'hate_share_percentage'})"
   ]
  },
  {
   "cell_type": "code",
   "execution_count": 9,
   "metadata": {},
   "outputs": [
    {
     "data": {
      "text/html": [
       "<div>\n",
       "<style scoped>\n",
       "    .dataframe tbody tr th:only-of-type {\n",
       "        vertical-align: middle;\n",
       "    }\n",
       "\n",
       "    .dataframe tbody tr th {\n",
       "        vertical-align: top;\n",
       "    }\n",
       "\n",
       "    .dataframe thead th {\n",
       "        text-align: right;\n",
       "    }\n",
       "</style>\n",
       "<table border=\"1\" class=\"dataframe\">\n",
       "  <thead>\n",
       "    <tr style=\"text-align: right;\">\n",
       "      <th></th>\n",
       "      <th>researcher</th>\n",
       "      <th>aggressive_share_percentage</th>\n",
       "      <th>hate_share_percentage</th>\n",
       "    </tr>\n",
       "  </thead>\n",
       "  <tbody>\n",
       "    <tr>\n",
       "      <th>0</th>\n",
       "      <td>fortuna et al</td>\n",
       "      <td>11.0</td>\n",
       "      <td>18.0</td>\n",
       "    </tr>\n",
       "    <tr>\n",
       "      <th>1</th>\n",
       "      <td>leite et al</td>\n",
       "      <td>43.0</td>\n",
       "      <td>34.0</td>\n",
       "    </tr>\n",
       "    <tr>\n",
       "      <th>2</th>\n",
       "      <td>oliveira et al</td>\n",
       "      <td>15.0</td>\n",
       "      <td>15.0</td>\n",
       "    </tr>\n",
       "    <tr>\n",
       "      <th>3</th>\n",
       "      <td>vargas et al</td>\n",
       "      <td>31.0</td>\n",
       "      <td>33.0</td>\n",
       "    </tr>\n",
       "  </tbody>\n",
       "</table>\n",
       "</div>"
      ],
      "text/plain": [
       "       researcher  aggressive_share_percentage  hate_share_percentage\n",
       "0   fortuna et al                         11.0                   18.0\n",
       "1     leite et al                         43.0                   34.0\n",
       "2  oliveira et al                         15.0                   15.0\n",
       "3    vargas et al                         31.0                   33.0"
      ]
     },
     "execution_count": 9,
     "metadata": {},
     "output_type": "execute_result"
    }
   ],
   "source": [
    "grouped_data_tupi.head()"
   ]
  },
  {
   "cell_type": "markdown",
   "metadata": {},
   "source": [
    "### 2) % of each type of hate speech for each researcher"
   ]
  },
  {
   "cell_type": "code",
   "execution_count": 10,
   "metadata": {},
   "outputs": [],
   "source": [
    "# Specify the name of the CSV file you want to access\n",
    "csv_file_name = \"tupi_hierarchy.csv\""
   ]
  },
  {
   "cell_type": "code",
   "execution_count": 11,
   "metadata": {},
   "outputs": [],
   "source": [
    "# Construct the full path to the \"tupi.csv\" file\n",
    "csv_file_path = os.path.join(datasets_folder, csv_file_name)"
   ]
  },
  {
   "cell_type": "code",
   "execution_count": 12,
   "metadata": {},
   "outputs": [],
   "source": [
    "# Check if the file exists before attempting to read it\n",
    "if os.path.isfile(csv_file_path):\n",
    "    # Load the \"tupi.csv\" file into a DataFrame\n",
    "    df_tupi_hier = pd.read_csv(csv_file_path)"
   ]
  },
  {
   "cell_type": "code",
   "execution_count": 13,
   "metadata": {},
   "outputs": [],
   "source": [
    "df_tupi_hier =df_tupi_hier[[\"researcher\",\"hate\",\"ageism\",\"aporophobia\",\"body_shame\",\"capacitism\",\"lgbtphobia\",\"political\",\"racism\",\"religious_intolerance\",\"misogyny\",\"xenophobia\",\"other\"]]"
   ]
  },
  {
   "cell_type": "code",
   "execution_count": 14,
   "metadata": {},
   "outputs": [],
   "source": [
    "# Sum all columns except the \"researcher\" column\n",
    "total_hate = df_tupi_hier.drop(columns=['hate','researcher']).sum()"
   ]
  },
  {
   "cell_type": "code",
   "execution_count": 15,
   "metadata": {},
   "outputs": [],
   "source": [
    "hate_categories = [\"ageism\",\"aporophobia\",\"body_shame\",\"capacitism\",\"lgbtphobia\",\"political\",\"racism\",\"religious_intolerance\",\"misogyny\",\"xenophobia\",\"other\"] "
   ]
  },
  {
   "cell_type": "code",
   "execution_count": 16,
   "metadata": {},
   "outputs": [],
   "source": [
    "# Group by researcher and calculate the sum of each category\n",
    "grouped_data_tupi_hier = df_tupi_hier.groupby('researcher').sum()\n",
    "\n",
    "# Calculate the total hate count\n",
    "total_hate = grouped_data_tupi_hier[hate_categories].sum(axis=1)\n",
    "\n",
    "# Calculate the percentage of each type of hate relative to the total hate count\n",
    "for category in hate_categories:\n",
    "    grouped_data_tupi_hier[category] = round((grouped_data_tupi_hier[category] / total_hate) * 100, 2)\n",
    "\n",
    "# Reset the index and select only the percentage columns without the \"% of\" prefix\n",
    "grouped_data_tupi_hier = grouped_data_tupi_hier[hate_categories]"
   ]
  },
  {
   "cell_type": "code",
   "execution_count": 17,
   "metadata": {},
   "outputs": [
    {
     "data": {
      "text/html": [
       "<div>\n",
       "<style scoped>\n",
       "    .dataframe tbody tr th:only-of-type {\n",
       "        vertical-align: middle;\n",
       "    }\n",
       "\n",
       "    .dataframe tbody tr th {\n",
       "        vertical-align: top;\n",
       "    }\n",
       "\n",
       "    .dataframe thead th {\n",
       "        text-align: right;\n",
       "    }\n",
       "</style>\n",
       "<table border=\"1\" class=\"dataframe\">\n",
       "  <thead>\n",
       "    <tr style=\"text-align: right;\">\n",
       "      <th></th>\n",
       "      <th>ageism</th>\n",
       "      <th>aporophobia</th>\n",
       "      <th>body_shame</th>\n",
       "      <th>capacitism</th>\n",
       "      <th>lgbtphobia</th>\n",
       "      <th>political</th>\n",
       "      <th>racism</th>\n",
       "      <th>religious_intolerance</th>\n",
       "      <th>misogyny</th>\n",
       "      <th>xenophobia</th>\n",
       "      <th>other</th>\n",
       "    </tr>\n",
       "    <tr>\n",
       "      <th>researcher</th>\n",
       "      <th></th>\n",
       "      <th></th>\n",
       "      <th></th>\n",
       "      <th></th>\n",
       "      <th></th>\n",
       "      <th></th>\n",
       "      <th></th>\n",
       "      <th></th>\n",
       "      <th></th>\n",
       "      <th></th>\n",
       "      <th></th>\n",
       "    </tr>\n",
       "  </thead>\n",
       "  <tbody>\n",
       "    <tr>\n",
       "      <th>fortuna et al</th>\n",
       "      <td>0.21</td>\n",
       "      <td>0.21</td>\n",
       "      <td>8.59</td>\n",
       "      <td>0.31</td>\n",
       "      <td>19.12</td>\n",
       "      <td>4.92</td>\n",
       "      <td>5.55</td>\n",
       "      <td>1.62</td>\n",
       "      <td>47.56</td>\n",
       "      <td>7.12</td>\n",
       "      <td>4.77</td>\n",
       "    </tr>\n",
       "    <tr>\n",
       "      <th>leite et al</th>\n",
       "      <td>0.00</td>\n",
       "      <td>0.00</td>\n",
       "      <td>0.00</td>\n",
       "      <td>0.00</td>\n",
       "      <td>6.28</td>\n",
       "      <td>0.00</td>\n",
       "      <td>2.52</td>\n",
       "      <td>0.00</td>\n",
       "      <td>8.45</td>\n",
       "      <td>2.75</td>\n",
       "      <td>80.00</td>\n",
       "    </tr>\n",
       "    <tr>\n",
       "      <th>oliveira et al</th>\n",
       "      <td>4.08</td>\n",
       "      <td>4.77</td>\n",
       "      <td>9.31</td>\n",
       "      <td>7.16</td>\n",
       "      <td>7.39</td>\n",
       "      <td>40.88</td>\n",
       "      <td>2.93</td>\n",
       "      <td>2.16</td>\n",
       "      <td>15.94</td>\n",
       "      <td>5.39</td>\n",
       "      <td>0.00</td>\n",
       "    </tr>\n",
       "    <tr>\n",
       "      <th>vargas et al</th>\n",
       "      <td>0.00</td>\n",
       "      <td>0.00</td>\n",
       "      <td>0.00</td>\n",
       "      <td>0.00</td>\n",
       "      <td>0.00</td>\n",
       "      <td>77.29</td>\n",
       "      <td>1.18</td>\n",
       "      <td>7.23</td>\n",
       "      <td>14.31</td>\n",
       "      <td>0.00</td>\n",
       "      <td>0.00</td>\n",
       "    </tr>\n",
       "  </tbody>\n",
       "</table>\n",
       "</div>"
      ],
      "text/plain": [
       "                ageism  aporophobia  body_shame  capacitism  lgbtphobia  \\\n",
       "researcher                                                                \n",
       "fortuna et al     0.21         0.21        8.59        0.31       19.12   \n",
       "leite et al       0.00         0.00        0.00        0.00        6.28   \n",
       "oliveira et al    4.08         4.77        9.31        7.16        7.39   \n",
       "vargas et al      0.00         0.00        0.00        0.00        0.00   \n",
       "\n",
       "                political  racism  religious_intolerance  misogyny  \\\n",
       "researcher                                                           \n",
       "fortuna et al        4.92    5.55                   1.62     47.56   \n",
       "leite et al          0.00    2.52                   0.00      8.45   \n",
       "oliveira et al      40.88    2.93                   2.16     15.94   \n",
       "vargas et al        77.29    1.18                   7.23     14.31   \n",
       "\n",
       "                xenophobia  other  \n",
       "researcher                         \n",
       "fortuna et al         7.12   4.77  \n",
       "leite et al           2.75  80.00  \n",
       "oliveira et al        5.39   0.00  \n",
       "vargas et al          0.00   0.00  "
      ]
     },
     "execution_count": 17,
     "metadata": {},
     "output_type": "execute_result"
    }
   ],
   "source": [
    "grouped_data_tupi_hier.head()"
   ]
  },
  {
   "cell_type": "markdown",
   "metadata": {},
   "source": [
    "### 3) % of each type of hate speech (general)"
   ]
  },
  {
   "cell_type": "code",
   "execution_count": 18,
   "metadata": {},
   "outputs": [],
   "source": [
    "# Calculate the total hate count\n",
    "total_hate = df_tupi_hier[hate_categories].sum()\n",
    "\n",
    "# Calculate the percentage of each type of hate relative to the total hate count\n",
    "percentage_data = {}\n",
    "for category in hate_categories:\n",
    "    percentage_data[f'{category}'] = round((total_hate[category] / total_hate.sum()) * 100, 2)\n",
    "\n",
    "# Create a DataFrame with a single row\n",
    "final_table = pd.DataFrame(percentage_data, index=[0])"
   ]
  },
  {
   "cell_type": "code",
   "execution_count": 19,
   "metadata": {},
   "outputs": [
    {
     "data": {
      "text/html": [
       "<div>\n",
       "<style scoped>\n",
       "    .dataframe tbody tr th:only-of-type {\n",
       "        vertical-align: middle;\n",
       "    }\n",
       "\n",
       "    .dataframe tbody tr th {\n",
       "        vertical-align: top;\n",
       "    }\n",
       "\n",
       "    .dataframe thead th {\n",
       "        text-align: right;\n",
       "    }\n",
       "</style>\n",
       "<table border=\"1\" class=\"dataframe\">\n",
       "  <thead>\n",
       "    <tr style=\"text-align: right;\">\n",
       "      <th></th>\n",
       "      <th>ageism</th>\n",
       "      <th>aporophobia</th>\n",
       "      <th>body_shame</th>\n",
       "      <th>capacitism</th>\n",
       "      <th>lgbtphobia</th>\n",
       "      <th>political</th>\n",
       "      <th>racism</th>\n",
       "      <th>religious_intolerance</th>\n",
       "      <th>misogyny</th>\n",
       "      <th>xenophobia</th>\n",
       "      <th>other</th>\n",
       "    </tr>\n",
       "  </thead>\n",
       "  <tbody>\n",
       "    <tr>\n",
       "      <th>0</th>\n",
       "      <td>0.61</td>\n",
       "      <td>0.7</td>\n",
       "      <td>3.04</td>\n",
       "      <td>1.06</td>\n",
       "      <td>8.59</td>\n",
       "      <td>12.27</td>\n",
       "      <td>3.1</td>\n",
       "      <td>1.15</td>\n",
       "      <td>17.88</td>\n",
       "      <td>3.81</td>\n",
       "      <td>47.78</td>\n",
       "    </tr>\n",
       "  </tbody>\n",
       "</table>\n",
       "</div>"
      ],
      "text/plain": [
       "   ageism  aporophobia  body_shame  capacitism  lgbtphobia  political  racism  \\\n",
       "0    0.61          0.7        3.04        1.06        8.59      12.27     3.1   \n",
       "\n",
       "   religious_intolerance  misogyny  xenophobia  other  \n",
       "0                   1.15     17.88        3.81  47.78  "
      ]
     },
     "execution_count": 19,
     "metadata": {},
     "output_type": "execute_result"
    }
   ],
   "source": [
    "final_table.head()"
   ]
  },
  {
   "cell_type": "markdown",
   "metadata": {},
   "source": [
    "### 4) Bigram with stopwods"
   ]
  },
  {
   "cell_type": "code",
   "execution_count": 41,
   "metadata": {},
   "outputs": [],
   "source": [
    "# Specify the name of the CSV file you want to access\n",
    "csv_file_name = \"tupi_hierarchy.csv\"\n",
    "# Construct the full path to the \"tupi.csv\" file\n",
    "csv_file_path = os.path.join(datasets_folder, csv_file_name)\n",
    "\n",
    "# Check if the file exists before attempting to read it\n",
    "if os.path.isfile(csv_file_path):\n",
    "    # Load the \"tupi.csv\" file into a DataFrame\n",
    "    df_tupi_hier = pd.read_csv(csv_file_path)"
   ]
  },
  {
   "cell_type": "code",
   "execution_count": 42,
   "metadata": {},
   "outputs": [],
   "source": [
    "df_tupi_hier['text'] = df_tupi_hier['text'].str.lower()"
   ]
  },
  {
   "cell_type": "code",
   "execution_count": 43,
   "metadata": {},
   "outputs": [
    {
     "data": {
      "image/png": "[encoded data removed]",
      "text/plain": [
       "<Figure size 1000x600 with 1 Axes>"
      ]
     },
     "metadata": {},
     "output_type": "display_data"
    }
   ],
   "source": [
    "# Function to tokenize text, excluding specific words\n",
    "def preprocess_text(text):\n",
    "    tokens = nltk.word_tokenize(text)\n",
    "    \n",
    "    return tokens\n",
    "\n",
    "# Apply preprocessing to the 'text' column\n",
    "df_tupi_hier['preprocessed_text'] = df_tupi_hier['text'].apply(preprocess_text)\n",
    "\n",
    "# Create bigrams from the preprocessed text\n",
    "df_tupi_hier['bigrams'] = df_tupi_hier['preprocessed_text'].apply(lambda x: list(bigrams(x)))\n",
    "\n",
    "# Count the frequency of bigrams\n",
    "bigram_frequency = Counter()\n",
    "for bigram_list in df_tupi_hier['bigrams']:\n",
    "    bigram_frequency.update(bigram_list)\n",
    "\n",
    "# Get the most frequent bigrams while excluding specific terms and punctuation\n",
    "exclude_terms = {'https', '@', 'user', 'link', '#', '??', '!!', '_:', '.:', '!:', '? ?', '! !', '_ :', '! :', '? :'}\n",
    "exclude_punctuation = set(string.punctuation)\n",
    "\n",
    "most_common_bigrams = [(b, freq) for b, freq in bigram_frequency.most_common() if all(term not in b and all(char not in b for char in exclude_punctuation) for term in exclude_terms)][:10]\n",
    "\n",
    "# Unzip bigram and frequency into separate lists and convert bigrams to strings\n",
    "bigram, frequency = zip(*most_common_bigrams)\n",
    "bigram = [' '.join(b) for b in bigram]\n",
    "\n",
    "# Create a chart for the most frequent bigrams\n",
    "plt.figure(figsize=(10, 6))\n",
    "plt.barh(bigram, frequency)\n",
    "plt.xlabel('Bigrams')\n",
    "plt.ylabel('Frequency')\n",
    "plt.title('Top 10 Most Frequent Bigrams (Excluding Specific Terms and Punctuation)')\n",
    "plt.show()"
   ]
  },
  {
   "cell_type": "markdown",
   "metadata": {},
   "source": [
    "### 4) Bigram without Stop words"
   ]
  },
  {
   "cell_type": "code",
   "execution_count": 44,
   "metadata": {},
   "outputs": [],
   "source": [
    "#import nltk\n",
    "#nltk.download('all')"
   ]
  },
  {
   "cell_type": "code",
   "execution_count": 45,
   "metadata": {},
   "outputs": [],
   "source": [
    "# Specify the name of the CSV file you want to access\n",
    "csv_file_name = \"tupi_hierarchy.csv\""
   ]
  },
  {
   "cell_type": "code",
   "execution_count": 46,
   "metadata": {},
   "outputs": [],
   "source": [
    "# Construct the full path to the \"tupi.csv\" file\n",
    "csv_file_path = os.path.join(datasets_folder, csv_file_name)"
   ]
  },
  {
   "cell_type": "code",
   "execution_count": 47,
   "metadata": {},
   "outputs": [],
   "source": [
    "# Check if the file exists before attempting to read it\n",
    "if os.path.isfile(csv_file_path):\n",
    "    # Load the \"tupi.csv\" file into a DataFrame\n",
    "    df_tupi_hier = pd.read_csv(csv_file_path)"
   ]
  },
  {
   "cell_type": "code",
   "execution_count": 48,
   "metadata": {},
   "outputs": [],
   "source": [
    "df_tupi_hier['text'] = df_tupi_hier['text'].str.lower()"
   ]
  },
  {
   "cell_type": "code",
   "execution_count": 49,
   "metadata": {},
   "outputs": [],
   "source": [
    "# Function to remove stopwords and tokenize text, excluding specific words\n",
    "def preprocess_text(text):\n",
    "    stop_words = set(stopwords.words('portuguese'))  # Use the appropriate language for your text\n",
    "    tokens = nltk.word_tokenize(text)\n",
    "    filtered_tokens = [word for word in tokens if word.lower() not in stop_words and not any(char in word for char in ['https', '@'])]\n",
    "    return filtered_tokens\n",
    "\n",
    "# Apply preprocessing to the 'text' column\n",
    "df_tupi_hier['preprocessed_text'] = df_tupi_hier['text'].apply(preprocess_text)\n",
    "\n",
    "# Create bigrams from the preprocessed text\n",
    "df_tupi_hier['bigrams'] = df_tupi_hier['preprocessed_text'].apply(lambda x: list(bigrams(x)))\n"
   ]
  },
  {
   "cell_type": "code",
   "execution_count": 50,
   "metadata": {},
   "outputs": [
    {
     "data": {
      "image/png": "[encoded data removed]",
      "text/plain": [
       "<Figure size 1000x600 with 1 Axes>"
      ]
     },
     "metadata": {},
     "output_type": "display_data"
    }
   ],
   "source": [
    "# Count the frequency of bigrams\n",
    "bigram_frequency = Counter()\n",
    "for bigram_list in df_tupi_hier['bigrams']:\n",
    "    bigram_frequency.update(bigram_list)\n",
    "\n",
    "# Get the most frequent bigrams while excluding specific terms and punctuation\n",
    "exclude_terms = {'https', '@', 'user', 'link', '#', '??', '!!', '_:', '.:', '!:', '? ?', '! !', '_ :', '! :', '? :'}\n",
    "exclude_punctuation = set(string.punctuation)\n",
    "\n",
    "most_common_bigrams = [(b, freq) for b, freq in bigram_frequency.most_common() if all(term not in b and all(char not in b for char in exclude_punctuation) for term in exclude_terms)][:10]\n",
    "\n",
    "# Unzip bigram and frequency into separate lists and convert bigrams to strings\n",
    "bigram, frequency = zip(*most_common_bigrams)\n",
    "bigram = [' '.join(b) for b in bigram]\n",
    "\n",
    "# Create a chart for the most frequent bigrams\n",
    "plt.figure(figsize=(10, 6))\n",
    "plt.barh(bigram,frequency)\n",
    "plt.xlabel('Bigrams')\n",
    "plt.ylabel('Frequency')\n",
    "plt.title('Top 10 Most Frequent Bigrams (Excluding Specific Terms and Punctuation)')\n",
    "plt.show()\n"
   ]
  },
  {
   "cell_type": "markdown",
   "metadata": {},
   "source": [
    "### 4) Trigram without stopwords"
   ]
  },
  {
   "cell_type": "code",
   "execution_count": 51,
   "metadata": {},
   "outputs": [],
   "source": [
    "from nltk.util import ngrams"
   ]
  },
  {
   "cell_type": "code",
   "execution_count": 52,
   "metadata": {},
   "outputs": [],
   "source": [
    "# Specify the name of the CSV file you want to access\n",
    "csv_file_name = \"tupi_hierarchy.csv\"\n",
    "# Construct the full path to the \"tupi.csv\" file\n",
    "csv_file_path = os.path.join(datasets_folder, csv_file_name)\n",
    "\n",
    "# Check if the file exists before attempting to read it\n",
    "if os.path.isfile(csv_file_path):\n",
    "    # Load the \"tupi.csv\" file into a DataFrame\n",
    "    df_tupi_hier = pd.read_csv(csv_file_path)"
   ]
  },
  {
   "cell_type": "code",
   "execution_count": 53,
   "metadata": {},
   "outputs": [],
   "source": [
    "df_tupi_hier['text'] = df_tupi_hier['text'].str.lower()"
   ]
  },
  {
   "cell_type": "code",
   "execution_count": 54,
   "metadata": {},
   "outputs": [
    {
     "data": {
      "image/png": "[encoded data removed]",
      "text/plain": [
       "<Figure size 1000x600 with 1 Axes>"
      ]
     },
     "metadata": {},
     "output_type": "display_data"
    }
   ],
   "source": [
    "# Function to remove stopwords and tokenize text, excluding specific words\n",
    "def preprocess_text(text):\n",
    "    stop_words = set(stopwords.words('portuguese'))  # Use the appropriate language for your text\n",
    "    tokens = nltk.word_tokenize(text)\n",
    "    filtered_tokens = [word for word in tokens if word.lower() not in stop_words and not any(char in word for char in ['https', '@'])]\n",
    "    return filtered_tokens\n",
    "\n",
    "# Apply preprocessing to the 'text' column\n",
    "df_tupi_hier['preprocessed_text'] = df_tupi_hier['text'].apply(preprocess_text)\n",
    "\n",
    "# Create trigrams from the preprocessed text\n",
    "df_tupi_hier['trigrams'] = df_tupi_hier['preprocessed_text'].apply(lambda x: list(ngrams(x, 3)))  # Use ngrams with n=3\n",
    "\n",
    "# Count the frequency of trigrams\n",
    "trigram_frequency = Counter()\n",
    "for trigram_list in df_tupi_hier['trigrams']:\n",
    "    trigram_frequency.update(trigram_list)\n",
    "\n",
    "# Get the most frequent trigrams while excluding specific terms and punctuation\n",
    "exclude_terms = {'https', '@', 'user', 'link', '#', '??', '!!', '_:', '.:', '!:', '? ?', '! !', '_ :', '! :', '? :'}\n",
    "exclude_punctuation = set(string.punctuation)\n",
    "\n",
    "most_common_trigrams = [(t, freq) for t, freq in trigram_frequency.most_common() if all(term not in t and all(char not in t for char in exclude_punctuation) for term in exclude_terms)][:10]\n",
    "\n",
    "# Unzip trigram and frequency into separate lists and convert trigrams to strings\n",
    "trigram, frequency = zip(*most_common_trigrams)\n",
    "trigram = [' '.join(t) for t in trigram]\n",
    "\n",
    "# Create a chart for the most frequent trigrams\n",
    "plt.figure(figsize=(10, 6))\n",
    "plt.barh(trigram, frequency)\n",
    "plt.xlabel('Trigrams')\n",
    "plt.ylabel('Frequency')\n",
    "plt.title('Top 10 Most Frequent Trigrams (Excluding Specific Terms and Punctuation)')\n",
    "plt.show()\n"
   ]
  },
  {
   "cell_type": "markdown",
   "metadata": {},
   "source": [
    "### 5) Frequency"
   ]
  },
  {
   "cell_type": "code",
   "execution_count": 58,
   "metadata": {},
   "outputs": [],
   "source": [
    "# Specify the name of the CSV file you want to access\n",
    "csv_file_name = \"tupi_binary.csv\"\n",
    "# Construct the full path to the \"tupi.csv\" file\n",
    "csv_file_path = os.path.join(datasets_folder, csv_file_name)\n",
    "\n",
    "# Check if the file exists before attempting to read it\n",
    "if os.path.isfile(csv_file_path):\n",
    "    # Load the \"tupi.csv\" file into a DataFrame\n",
    "    df_tupi_binary = pd.read_csv(csv_file_path)"
   ]
  },
  {
   "cell_type": "code",
   "execution_count": 59,
   "metadata": {},
   "outputs": [],
   "source": [
    "df_tupi_binary['text'] = df_tupi_binary['text'].str.lower()"
   ]
  },
  {
   "cell_type": "code",
   "execution_count": 60,
   "metadata": {},
   "outputs": [
    {
     "data": {
      "text/html": [
       "<div>\n",
       "<style scoped>\n",
       "    .dataframe tbody tr th:only-of-type {\n",
       "        vertical-align: middle;\n",
       "    }\n",
       "\n",
       "    .dataframe tbody tr th {\n",
       "        vertical-align: top;\n",
       "    }\n",
       "\n",
       "    .dataframe thead th {\n",
       "        text-align: right;\n",
       "    }\n",
       "</style>\n",
       "<table border=\"1\" class=\"dataframe\">\n",
       "  <thead>\n",
       "    <tr style=\"text-align: right;\">\n",
       "      <th></th>\n",
       "      <th>source</th>\n",
       "      <th>id</th>\n",
       "      <th>text</th>\n",
       "      <th>researcher</th>\n",
       "      <th>year</th>\n",
       "      <th>aggressive</th>\n",
       "      <th>hate</th>\n",
       "    </tr>\n",
       "  </thead>\n",
       "  <tbody>\n",
       "    <tr>\n",
       "      <th>0</th>\n",
       "      <td>twitter</td>\n",
       "      <td>1.65848623693028e+18</td>\n",
       "      <td>@user @user @user quanto vc pagava na época da...</td>\n",
       "      <td>oliveira et al</td>\n",
       "      <td>2023</td>\n",
       "      <td>1</td>\n",
       "      <td>1</td>\n",
       "    </tr>\n",
       "    <tr>\n",
       "      <th>1</th>\n",
       "      <td>twitter</td>\n",
       "      <td>1.65848623777333e+18</td>\n",
       "      <td>@user os árabes já vão lhes chutar do país ??</td>\n",
       "      <td>oliveira et al</td>\n",
       "      <td>2023</td>\n",
       "      <td>1</td>\n",
       "      <td>1</td>\n",
       "    </tr>\n",
       "    <tr>\n",
       "      <th>2</th>\n",
       "      <td>twitter</td>\n",
       "      <td>1.65848960585394e+18</td>\n",
       "      <td>@user @user @user @user @user tem que desenhar...</td>\n",
       "      <td>oliveira et al</td>\n",
       "      <td>2023</td>\n",
       "      <td>1</td>\n",
       "      <td>1</td>\n",
       "    </tr>\n",
       "    <tr>\n",
       "      <th>3</th>\n",
       "      <td>twitter</td>\n",
       "      <td>1.65849012716374e+18</td>\n",
       "      <td>@user @user chola mais gado. e se não quiser p...</td>\n",
       "      <td>oliveira et al</td>\n",
       "      <td>2023</td>\n",
       "      <td>1</td>\n",
       "      <td>1</td>\n",
       "    </tr>\n",
       "    <tr>\n",
       "      <th>4</th>\n",
       "      <td>twitter</td>\n",
       "      <td>1.65849018793945e+18</td>\n",
       "      <td>michele micheque nao tinha cartao do bolsonaro...</td>\n",
       "      <td>oliveira et al</td>\n",
       "      <td>2023</td>\n",
       "      <td>1</td>\n",
       "      <td>1</td>\n",
       "    </tr>\n",
       "  </tbody>\n",
       "</table>\n",
       "</div>"
      ],
      "text/plain": [
       "    source                    id  \\\n",
       "0  twitter  1.65848623693028e+18   \n",
       "1  twitter  1.65848623777333e+18   \n",
       "2  twitter  1.65848960585394e+18   \n",
       "3  twitter  1.65849012716374e+18   \n",
       "4  twitter  1.65849018793945e+18   \n",
       "\n",
       "                                                text      researcher  year  \\\n",
       "0  @user @user @user quanto vc pagava na época da...  oliveira et al  2023   \n",
       "1      @user os árabes já vão lhes chutar do país ??  oliveira et al  2023   \n",
       "2  @user @user @user @user @user tem que desenhar...  oliveira et al  2023   \n",
       "3  @user @user chola mais gado. e se não quiser p...  oliveira et al  2023   \n",
       "4  michele micheque nao tinha cartao do bolsonaro...  oliveira et al  2023   \n",
       "\n",
       "   aggressive  hate  \n",
       "0           1     1  \n",
       "1           1     1  \n",
       "2           1     1  \n",
       "3           1     1  \n",
       "4           1     1  "
      ]
     },
     "execution_count": 60,
     "metadata": {},
     "output_type": "execute_result"
    }
   ],
   "source": [
    "df_tupi_binary.head()"
   ]
  },
  {
   "cell_type": "code",
   "execution_count": 61,
   "metadata": {},
   "outputs": [],
   "source": [
    "# Function to remove stopwords and tokenize text, excluding specific words\n",
    "def preprocess_text(text):\n",
    "    stop_words = set(stopwords.words('portuguese'))  # Use the appropriate language for your text\n",
    "    tokens = nltk.word_tokenize(text)\n",
    "    filtered_tokens = [word for word in tokens if word.lower() not in stop_words and not any(char in word for char in ['https', '@'])]\n",
    "    return filtered_tokens\n",
    "\n",
    "# Apply preprocessing to the 'text' column\n",
    "df_tupi_binary['preprocessed_text'] = df_tupi_binary['text'].apply(preprocess_text)\n",
    "\n",
    "# Create bigrams from the preprocessed text\n",
    "df_tupi_binary['bigrams'] = df_tupi_binary['preprocessed_text'].apply(lambda x: list(bigrams(x)))"
   ]
  },
  {
   "cell_type": "code",
   "execution_count": 34,
   "metadata": {},
   "outputs": [],
   "source": [
    "# Get the most frequent bigrams while excluding specific terms and punctuation\n",
    "exclude_terms = {'https', '@', 'user', 'link', '#', '??', '!!', '_:', '.:', '!:', '? ?', '! !', '_ :', '! :', '? :'}\n",
    "exclude_punctuation = set(string.punctuation)"
   ]
  },
  {
   "cell_type": "code",
   "execution_count": 35,
   "metadata": {},
   "outputs": [
    {
     "data": {
      "text/html": [
       "<div>\n",
       "<style scoped>\n",
       "    .dataframe tbody tr th:only-of-type {\n",
       "        vertical-align: middle;\n",
       "    }\n",
       "\n",
       "    .dataframe tbody tr th {\n",
       "        vertical-align: top;\n",
       "    }\n",
       "\n",
       "    .dataframe thead th {\n",
       "        text-align: right;\n",
       "    }\n",
       "</style>\n",
       "<table border=\"1\" class=\"dataframe\">\n",
       "  <thead>\n",
       "    <tr style=\"text-align: right;\">\n",
       "      <th></th>\n",
       "      <th>source</th>\n",
       "      <th>id</th>\n",
       "      <th>text</th>\n",
       "      <th>researcher</th>\n",
       "      <th>year</th>\n",
       "      <th>aggressive</th>\n",
       "      <th>hate</th>\n",
       "      <th>preprocessed_text</th>\n",
       "      <th>bigrams</th>\n",
       "    </tr>\n",
       "  </thead>\n",
       "  <tbody>\n",
       "    <tr>\n",
       "      <th>0</th>\n",
       "      <td>twitter</td>\n",
       "      <td>1.65848623693028e+18</td>\n",
       "      <td>@user @user @user quanto vc pagava na época da...</td>\n",
       "      <td>oliveira et al</td>\n",
       "      <td>2023</td>\n",
       "      <td>1</td>\n",
       "      <td>1</td>\n",
       "      <td>[user, user, user, quanto, vc, pagava, época, ...</td>\n",
       "      <td>[(user, user), (user, user), (user, quanto), (...</td>\n",
       "    </tr>\n",
       "    <tr>\n",
       "      <th>1</th>\n",
       "      <td>twitter</td>\n",
       "      <td>1.65848623777333e+18</td>\n",
       "      <td>@user os árabes já vão lhes chutar do país ??</td>\n",
       "      <td>oliveira et al</td>\n",
       "      <td>2023</td>\n",
       "      <td>1</td>\n",
       "      <td>1</td>\n",
       "      <td>[user, árabes, vão, chutar, país, ?, ?]</td>\n",
       "      <td>[(user, árabes), (árabes, vão), (vão, chutar),...</td>\n",
       "    </tr>\n",
       "    <tr>\n",
       "      <th>2</th>\n",
       "      <td>twitter</td>\n",
       "      <td>1.65848960585394e+18</td>\n",
       "      <td>@user @user @user @user @user tem que desenhar...</td>\n",
       "      <td>oliveira et al</td>\n",
       "      <td>2023</td>\n",
       "      <td>1</td>\n",
       "      <td>1</td>\n",
       "      <td>[user, user, user, user, user, desenhar, expli...</td>\n",
       "      <td>[(user, user), (user, user), (user, user), (us...</td>\n",
       "    </tr>\n",
       "    <tr>\n",
       "      <th>3</th>\n",
       "      <td>twitter</td>\n",
       "      <td>1.65849012716374e+18</td>\n",
       "      <td>@user @user chola mais gado. e se não quiser p...</td>\n",
       "      <td>oliveira et al</td>\n",
       "      <td>2023</td>\n",
       "      <td>1</td>\n",
       "      <td>1</td>\n",
       "      <td>[user, user, chola, gado, ., quiser, pagar, ba...</td>\n",
       "      <td>[(user, user), (user, chola), (chola, gado), (...</td>\n",
       "    </tr>\n",
       "    <tr>\n",
       "      <th>4</th>\n",
       "      <td>twitter</td>\n",
       "      <td>1.65849018793945e+18</td>\n",
       "      <td>michele micheque nao tinha cartao do bolsonaro...</td>\n",
       "      <td>oliveira et al</td>\n",
       "      <td>2023</td>\n",
       "      <td>1</td>\n",
       "      <td>1</td>\n",
       "      <td>[michele, micheque, nao, cartao, bolsonaro, pq...</td>\n",
       "      <td>[(michele, micheque), (micheque, nao), (nao, c...</td>\n",
       "    </tr>\n",
       "  </tbody>\n",
       "</table>\n",
       "</div>"
      ],
      "text/plain": [
       "    source                    id  \\\n",
       "0  twitter  1.65848623693028e+18   \n",
       "1  twitter  1.65848623777333e+18   \n",
       "2  twitter  1.65848960585394e+18   \n",
       "3  twitter  1.65849012716374e+18   \n",
       "4  twitter  1.65849018793945e+18   \n",
       "\n",
       "                                                text      researcher  year  \\\n",
       "0  @user @user @user quanto vc pagava na época da...  oliveira et al  2023   \n",
       "1      @user os árabes já vão lhes chutar do país ??  oliveira et al  2023   \n",
       "2  @user @user @user @user @user tem que desenhar...  oliveira et al  2023   \n",
       "3  @user @user chola mais gado. e se não quiser p...  oliveira et al  2023   \n",
       "4  michele micheque nao tinha cartao do bolsonaro...  oliveira et al  2023   \n",
       "\n",
       "   aggressive  hate                                  preprocessed_text  \\\n",
       "0           1     1  [user, user, user, quanto, vc, pagava, época, ...   \n",
       "1           1     1            [user, árabes, vão, chutar, país, ?, ?]   \n",
       "2           1     1  [user, user, user, user, user, desenhar, expli...   \n",
       "3           1     1  [user, user, chola, gado, ., quiser, pagar, ba...   \n",
       "4           1     1  [michele, micheque, nao, cartao, bolsonaro, pq...   \n",
       "\n",
       "                                             bigrams  \n",
       "0  [(user, user), (user, user), (user, quanto), (...  \n",
       "1  [(user, árabes), (árabes, vão), (vão, chutar),...  \n",
       "2  [(user, user), (user, user), (user, user), (us...  \n",
       "3  [(user, user), (user, chola), (chola, gado), (...  \n",
       "4  [(michele, micheque), (micheque, nao), (nao, c...  "
      ]
     },
     "execution_count": 35,
     "metadata": {},
     "output_type": "execute_result"
    }
   ],
   "source": [
    "df_tupi_binary.head()"
   ]
  },
  {
   "cell_type": "code",
   "execution_count": 62,
   "metadata": {},
   "outputs": [
    {
     "name": "stderr",
     "output_type": "stream",
     "text": [
      "/tmp/ipykernel_7944/2932269453.py:5: SettingWithCopyWarning: \n",
      "A value is trying to be set on a copy of a slice from a DataFrame.\n",
      "Try using .loc[row_indexer,col_indexer] = value instead\n",
      "\n",
      "See the caveats in the documentation: https://pandas.pydata.org/pandas-docs/stable/user_guide/indexing.html#returning-a-view-versus-a-copy\n",
      "  df_filtered['unique_words'] = df_filtered['text'].apply(lambda x: len(set(x.split())))\n",
      "/tmp/ipykernel_7944/2932269453.py:11: SettingWithCopyWarning: \n",
      "A value is trying to be set on a copy of a slice from a DataFrame.\n",
      "Try using .loc[row_indexer,col_indexer] = value instead\n",
      "\n",
      "See the caveats in the documentation: https://pandas.pydata.org/pandas-docs/stable/user_guide/indexing.html#returning-a-view-versus-a-copy\n",
      "  df_filtered['bin'] = (df_filtered['unique_words'] // bin_size) * bin_size\n",
      "/tmp/ipykernel_7944/2932269453.py:15: SettingWithCopyWarning: \n",
      "A value is trying to be set on a copy of a slice from a DataFrame.\n",
      "Try using .loc[row_indexer,col_indexer] = value instead\n",
      "\n",
      "See the caveats in the documentation: https://pandas.pydata.org/pandas-docs/stable/user_guide/indexing.html#returning-a-view-versus-a-copy\n",
      "  df_filtered['unique_words_normalized'] = df_filtered.groupby('bin')['unique_words'].transform(lambda x: scaler.fit_transform(x.values.reshape(-1, 1)).flatten())\n"
     ]
    },
    {
     "data": {
      "image/png": "[encoded data removed]",
      "text/plain": [
       "<Figure size 1200x600 with 1 Axes>"
      ]
     },
     "metadata": {},
     "output_type": "display_data"
    }
   ],
   "source": [
    "# Filter the DataFrame for rows where 'hate' is equal to 1\n",
    "df_filtered = df_tupi_binary[df_tupi_binary['hate'] == 1]\n",
    "\n",
    "# Calculate the number of unique words in each row of the \"text\" column\n",
    "df_filtered['unique_words'] = df_filtered['text'].apply(lambda x: len(set(x.split())))\n",
    "\n",
    "# Define the bin size (e.g., 50 unique words)\n",
    "bin_size = 1\n",
    "\n",
    "# Group the data into bins of a specific number of unique words\n",
    "df_filtered['bin'] = (df_filtered['unique_words'] // bin_size) * bin_size\n",
    "\n",
    "# Create a Min-Max scaler to normalize the data within each bin between 0 and 1\n",
    "scaler = MinMaxScaler()\n",
    "df_filtered['unique_words_normalized'] = df_filtered.groupby('bin')['unique_words'].transform(lambda x: scaler.fit_transform(x.values.reshape(-1, 1)).flatten())\n",
    "\n",
    "# Calculate the mean of the normalized values within each bin\n",
    "mean_normalized_values = df_filtered.groupby('bin')['unique_words_normalized'].count()\n",
    "\n",
    "# Create a bar chart with number of characters on the x-axis and mean frequency on the y-axis\n",
    "plt.figure(figsize=(12, 6))\n",
    "\n",
    "# Set the bar width to make them contiguous\n",
    "bar_width = bin_size\n",
    "\n",
    "# Set the bar alignment to remove gaps\n",
    "plt.bar(mean_normalized_values.index, mean_normalized_values.values, width=bar_width, align='edge')\n",
    "plt.xlabel('Number of Characters')\n",
    "plt.ylabel('Mean of Normalized Values')\n",
    "plt.title('Mean of Normalized Values vs. Number of Characters in \"text\" Column (where \"hate\" is 1)')\n",
    "\n",
    "# Show the chart\n",
    "plt.show()"
   ]
  },
  {
   "cell_type": "code",
   "execution_count": 64,
   "metadata": {},
   "outputs": [
    {
     "name": "stderr",
     "output_type": "stream",
     "text": [
      "/tmp/ipykernel_7944/477048003.py:5: SettingWithCopyWarning: \n",
      "A value is trying to be set on a copy of a slice from a DataFrame.\n",
      "Try using .loc[row_indexer,col_indexer] = value instead\n",
      "\n",
      "See the caveats in the documentation: https://pandas.pydata.org/pandas-docs/stable/user_guide/indexing.html#returning-a-view-versus-a-copy\n",
      "  df_filtered['unique_words'] = df_filtered['text'].apply(lambda x: len(set(x.split())))\n",
      "/tmp/ipykernel_7944/477048003.py:11: SettingWithCopyWarning: \n",
      "A value is trying to be set on a copy of a slice from a DataFrame.\n",
      "Try using .loc[row_indexer,col_indexer] = value instead\n",
      "\n",
      "See the caveats in the documentation: https://pandas.pydata.org/pandas-docs/stable/user_guide/indexing.html#returning-a-view-versus-a-copy\n",
      "  df_filtered['bin'] = (df_filtered['unique_words'] // bin_size) * bin_size\n",
      "/tmp/ipykernel_7944/477048003.py:15: SettingWithCopyWarning: \n",
      "A value is trying to be set on a copy of a slice from a DataFrame.\n",
      "Try using .loc[row_indexer,col_indexer] = value instead\n",
      "\n",
      "See the caveats in the documentation: https://pandas.pydata.org/pandas-docs/stable/user_guide/indexing.html#returning-a-view-versus-a-copy\n",
      "  df_filtered['unique_words_normalized'] = df_filtered.groupby('bin')['unique_words'].transform(lambda x: scaler.fit_transform(x.values.reshape(-1, 1)).flatten())\n"
     ]
    },
    {
     "data": {
      "image/png": "[encoded data removed]",
      "text/plain": [
       "<Figure size 1200x600 with 1 Axes>"
      ]
     },
     "metadata": {},
     "output_type": "display_data"
    }
   ],
   "source": [
    "# Filter the DataFrame for rows where 'hate' is equal to 1\n",
    "df_filtered = df_tupi_binary[df_tupi_binary['hate'] == 0]\n",
    "\n",
    "# Calculate the number of unique words in each row of the \"text\" column\n",
    "df_filtered['unique_words'] = df_filtered['text'].apply(lambda x: len(set(x.split())))\n",
    "\n",
    "# Define the bin size (e.g., 50 unique words)\n",
    "bin_size = 1\n",
    "\n",
    "# Group the data into bins of a specific number of unique words\n",
    "df_filtered['bin'] = (df_filtered['unique_words'] // bin_size) * bin_size\n",
    "\n",
    "# Create a Min-Max scaler to normalize the data within each bin between 0 and 1\n",
    "scaler = MinMaxScaler()\n",
    "df_filtered['unique_words_normalized'] = df_filtered.groupby('bin')['unique_words'].transform(lambda x: scaler.fit_transform(x.values.reshape(-1, 1)).flatten())\n",
    "\n",
    "# Calculate the mean of the normalized values within each bin\n",
    "mean_normalized_values = df_filtered.groupby('bin')['unique_words_normalized'].count()\n",
    "\n",
    "# Create a bar chart with number of characters on the x-axis and mean frequency on the y-axis\n",
    "plt.figure(figsize=(12, 6))\n",
    "\n",
    "# Set the bar width to make them contiguous\n",
    "bar_width = bin_size\n",
    "\n",
    "# Set the bar alignment to remove gaps\n",
    "plt.bar(mean_normalized_values.index, mean_normalized_values.values, width=bar_width, align='edge')\n",
    "plt.xlabel('Number of Characters')\n",
    "plt.ylabel('Mean of Normalized Values')\n",
    "plt.title('Mean of Normalized Values vs. Number of Characters in \"text\" Column (where \"hate\" is 0)')\n",
    "\n",
    "# Show the chart\n",
    "plt.show()"
   ]
  }
 ],
 "metadata": {
  "kernelspec": {
   "display_name": "tupi-env",
   "language": "python",
   "name": "python3"
  },
  "language_info": {
   "codemirror_mode": {
    "name": "ipython",
    "version": 3
   },
   "file_extension": ".py",
   "mimetype": "text/x-python",
   "name": "python",
   "nbconvert_exporter": "python",
   "pygments_lexer": "ipython3",
   "version": "3.10.13"
  }
 },
 "nbformat": 4,
 "nbformat_minor": 2
}
