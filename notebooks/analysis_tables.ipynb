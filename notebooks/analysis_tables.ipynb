{
 "cells": [
  {
   "cell_type": "code",
   "execution_count": 1,
   "metadata": {},
   "outputs": [],
   "source": [
    "import os\n",
    "import pandas as pd"
   ]
  },
  {
   "cell_type": "markdown",
   "metadata": {},
   "source": [
    "### Define the path to the \"datasets\" folder relative to your current notebook's location."
   ]
  },
  {
   "cell_type": "code",
   "execution_count": 2,
   "metadata": {},
   "outputs": [],
   "source": [
    "# Define the path to the \"figures\" folder\n",
    "figures_folder = \"../figures\"\n",
    "\n",
    "# Function to save a DataFrame to a CSV file\n",
    "def save_as_csv(df, file_name):\n",
    "    file_path = os.path.join(figures_folder, file_name)\n",
    "    df.to_csv(file_path, index=False)"
   ]
  },
  {
   "cell_type": "markdown",
   "metadata": {},
   "source": [
    "### Function to load a CSV file and return a DataFrame"
   ]
  },
  {
   "cell_type": "code",
   "execution_count": 3,
   "metadata": {},
   "outputs": [],
   "source": [
    "def load_csv_file(file_name):\n",
    "    csv_file_path = os.path.join(datasets_folder, file_name)\n",
    "    if os.path.isfile(csv_file_path):\n",
    "        return pd.read_csv(csv_file_path)\n",
    "    return None"
   ]
  },
  {
   "cell_type": "markdown",
   "metadata": {},
   "source": [
    "### Function to calculate share percentages"
   ]
  },
  {
   "cell_type": "code",
   "execution_count": 38,
   "metadata": {},
   "outputs": [],
   "source": [
    "def calculate_share_percentages(df, columns):\n",
    "    total = df[columns].sum()\n",
    "    percentage_data = {}\n",
    "    for col in columns:\n",
    "        percentage_data[f'{col}_share_percentage'] = round((df[col] / total) * 100, 0)\n",
    "    return pd.DataFrame(percentage_data)"
   ]
  },
  {
   "cell_type": "markdown",
   "metadata": {},
   "source": [
    "### Function to generate the first table"
   ]
  },
  {
   "cell_type": "code",
   "execution_count": 39,
   "metadata": {},
   "outputs": [],
   "source": [
    "def generate_table_1():\n",
    "    df_tupi = load_csv_file(\"tupi_binary.csv\")\n",
    "\n",
    "    if df_tupi is not None:\n",
    "        total_aggressive = df_tupi['aggressive'].sum()\n",
    "        total_hate = df_tupi['hate'].sum()\n",
    "        grouped_data_tupi = df_tupi.groupby('researcher').agg({\n",
    "            'aggressive': lambda x: round((x.sum() / total_aggressive) * 100, 0),\n",
    "            'hate': lambda x: round((x.sum() / total_hate) * 100, 0)\n",
    "        }).reset_index()\n",
    "        grouped_data_tupi = grouped_data_tupi.rename(columns={'aggressive': 'aggressive_share_percentage', 'hate': 'hate_share_percentage'})\n",
    "        return grouped_data_tupi"
   ]
  },
  {
   "cell_type": "markdown",
   "metadata": {},
   "source": [
    "### Function to generate the second table"
   ]
  },
  {
   "cell_type": "code",
   "execution_count": 40,
   "metadata": {},
   "outputs": [],
   "source": [
    "def generate_table_2():\n",
    "    df_tupi_hier = load_csv_file(\"tupi_hierarchy.csv\")\n",
    "\n",
    "    if df_tupi_hier is not None:\n",
    "        hate_categories = [\"ageism\", \"aporophobia\", \"body_shame\", \"capacitism\", \"lgbtphobia\", \"political\", \"racism\",\n",
    "                          \"religious_intolerance\", \"misogyny\", \"xenophobia\", \"other\"]\n",
    "        grouped_data_tupi_hier = df_tupi_hier.groupby('researcher').sum()\n",
    "\n",
    "        total_hate = grouped_data_tupi_hier[hate_categories].sum(axis=1)\n",
    "\n",
    "        for category in hate_categories:\n",
    "            grouped_data_tupi_hier[category] = round((grouped_data_tupi_hier[category] / total_hate) * 100, 2)\n",
    "\n",
    "        grouped_data_tupi_hier = grouped_data_tupi_hier[hate_categories]\n",
    "        return grouped_data_tupi_hier"
   ]
  },
  {
   "cell_type": "markdown",
   "metadata": {},
   "source": [
    "### Function to generate the third table"
   ]
  },
  {
   "cell_type": "code",
   "execution_count": 41,
   "metadata": {},
   "outputs": [],
   "source": [
    "def generate_table_3():\n",
    "    df_tupi_hier = load_csv_file(\"tupi_hierarchy.csv\")\n",
    "\n",
    "    if df_tupi_hier is not None:\n",
    "        hate_categories = [\"ageism\", \"aporophobia\", \"body_shame\", \"capacitism\", \"lgbtphobia\", \"political\", \"racism\",\n",
    "                          \"religious_intolerance\", \"misogyny\", \"xenophobia\", \"other\"]\n",
    "        total_hate = df_tupi_hier[hate_categories].sum()\n",
    "\n",
    "        percentage_data = {}\n",
    "        for category in hate_categories:\n",
    "            percentage_data[f'{category}'] = round((total_hate[category] / total_hate.sum()) * 100, 2)\n",
    "\n",
    "        final_table = pd.DataFrame(percentage_data, index=[0])\n",
    "        return final_table"
   ]
  },
  {
   "cell_type": "code",
   "execution_count": 42,
   "metadata": {},
   "outputs": [],
   "source": [
    "table1 = generate_table_1()\n",
    "table2 = generate_table_2()\n",
    "table3 = generate_table_3()"
   ]
  },
  {
   "cell_type": "code",
   "execution_count": 44,
   "metadata": {},
   "outputs": [],
   "source": [
    "# Save the generated tables as CSV files\n",
    "if table1 is not None:\n",
    "    save_as_csv(table1, \"share_of_agressive_and_hate_for_reseracher.csv\")\n",
    "\n",
    "if table2 is not None:\n",
    "    save_as_csv(table2, \"share_of_category_of_hate_for_reseracher.csv\")\n",
    "\n",
    "if table3 is not None:\n",
    "    save_as_csv(table3, \"share_of_category_of_hate_general.csv\")"
   ]
  },
  {
   "cell_type": "code",
   "execution_count": null,
   "metadata": {},
   "outputs": [],
   "source": []
  },
  {
   "cell_type": "code",
   "execution_count": null,
   "metadata": {},
   "outputs": [],
   "source": []
  },
  {
   "cell_type": "code",
   "execution_count": null,
   "metadata": {},
   "outputs": [],
   "source": []
  },
  {
   "cell_type": "code",
   "execution_count": null,
   "metadata": {},
   "outputs": [],
   "source": []
  }
 ],
 "metadata": {
  "kernelspec": {
   "display_name": "tupi-env",
   "language": "python",
   "name": "python3"
  },
  "language_info": {
   "codemirror_mode": {
    "name": "ipython",
    "version": 3
   },
   "file_extension": ".py",
   "mimetype": "text/x-python",
   "name": "python",
   "nbconvert_exporter": "python",
   "pygments_lexer": "ipython3",
   "version": "3.10.13"
  }
 },
 "nbformat": 4,
 "nbformat_minor": 2
}
